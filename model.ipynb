{
 "cells": [
  {
   "cell_type": "markdown",
   "metadata": {},
   "source": [
    "#  Diabetic Retinopathy Debrecen Data Set\n",
    "\n",
    "## Data source:\n",
    "<https://archive.ics.uci.edu/ml/datasets/Diabetic+Retinopathy+Debrecen+Data+Set>\n",
    "\n",
    "## Attribute Information:\n",
    "\n",
    "0. quality: The binary result of quality assessment. 0 = bad quality 1 = sufficient quality.\n",
    "1. prescreen: The binary result of pre-screening, where 1 indicates severe retinal abnormality and 0 its lack.\n",
    "2. ma_detection_0.5: The results of MA detection, which is the number of MAs found at the confidence level alpha = 0.5\n",
    "3. ma_detection_0.6: The results of MA detection, which is the number of MAs found at the confidence level alpha = 0.6\n",
    "4. ma_detection_0.7: The results of MA detection, which is the number of MAs found at the confidence level alpha = 0.7\n",
    "5. ma_detection_0.8: The results of MA detection, which is the number of MAs found at the confidence level alpha = 0.8\n",
    "6. ma_detection_0.9: The results of MA detection, which is the number of MAs found at the confidence level alpha = 0.9\n",
    "7. ma_detection_1.0: The results of MA detection, which is the number of MAs found at the confidence level alpha = 1.0\n",
    "8. exudates_0.1: The number of exudates found at the confidence level alpha = 0.1 with normalization*.\n",
    "9. exudates_0.2: The number of exudates found at the confidence level alpha = 0.2 with normalization*.\n",
    "10. exudates_0.3: The number of exudates found at the confidence level alpha = 0.3 with normalization*.\n",
    "11. exudates_0.4: The number of exudates found at the confidence level alpha = 0.4 with normalization*.\n",
    "12. exudates_0.5: The number of exudates found at the confidence level alpha = 0.5 with normalization*.\n",
    "13. exudates_0.6: The number of exudates found at the confidence level alpha = 0.6 with normalization*.\n",
    "14. exudates_0.7: The number of exudates found at the confidence level alpha = 0.7 with normalization*.\n",
    "15. exudates_0.8: The number of exudates found at the confidence level alpha = 0.8 with normalization*.\n",
    "\n",
    "* Exudates are represented by a set of points rather than the number of pixels constructing the lesions, hence these features are normalized by dividing the number of lesions with the diameter of the ROI to compensate different image sizes.\n",
    "\n",
    "16. dist_macula_optic: The euclidean distance of the center of the macula and the center of the optic disc to provide important information regarding the patient's condition. This feature is also normalized with the diameter of the ROI.\n",
    "17. diameter_optic: The diameter of the optic disc.\n",
    "18. am_fm: The binary result of the AM/FM-based classification.\n",
    "19. Class: Class label. 1 = contains signs of Diabetic Retinopathy (DR) (Accumulative label for the Messidor classes 1, 2, 3), 0 = no signs of DR.\n"
   ]
  },
  {
   "cell_type": "markdown",
   "metadata": {},
   "source": [
    "# Load the library and data"
   ]
  },
  {
   "cell_type": "code",
   "execution_count": 19,
   "metadata": {},
   "outputs": [],
   "source": [
    "from scipy.io import arff\n",
    "import pandas as pd\n",
    "import numpy as np\n",
    "import sklearn\n",
    "from sklearn.model_selection import train_test_split\n",
    "from sklearn.linear_model import LogisticRegression\n",
    "from sklearn.ensemble import RandomForestClassifier\n",
    "from sklearn.neighbors import KNeighborsClassifier\n",
    "from sklearn.svm import SVC, LinearSVC\n",
    "from sklearn.metrics import classification_report\n",
    "\n",
    "data = arff.loadarff('messidor_features.arff')\n",
    "df = pd.DataFrame(data[0])\n",
    "df.columns = [\"quality\", \"prescreen\", \n",
    "              \"ma_detection_0.5\", \"ma_detection_0.6\", \"ma_detection_0.7\", \n",
    "              \"ma_detection_0.8\", \"ma_detection_0.9\", \"ma_detection_1.0\",\n",
    "              \"exudates_0.1\", \"exudates_0.2\", \"exudates_0.3\",\n",
    "              \"exudates_0.4\", \"exudates_0.5\", \"exudates_0.6\",\n",
    "              \"exudates_0.7\", \"exudates_0.8\",\n",
    "              \"dist_macula_optic\", \"diameter_optic\", \"am_fm\", \"Class\"\n",
    "             ]"
   ]
  },
  {
   "cell_type": "markdown",
   "metadata": {},
   "source": [
    "# Preview the data"
   ]
  },
  {
   "cell_type": "code",
   "execution_count": 61,
   "metadata": {},
   "outputs": [
    {
     "data": {
      "text/html": [
       "<div>\n",
       "<style scoped>\n",
       "    .dataframe tbody tr th:only-of-type {\n",
       "        vertical-align: middle;\n",
       "    }\n",
       "\n",
       "    .dataframe tbody tr th {\n",
       "        vertical-align: top;\n",
       "    }\n",
       "\n",
       "    .dataframe thead th {\n",
       "        text-align: right;\n",
       "    }\n",
       "</style>\n",
       "<table border=\"1\" class=\"dataframe\">\n",
       "  <thead>\n",
       "    <tr style=\"text-align: right;\">\n",
       "      <th></th>\n",
       "      <th>quality</th>\n",
       "      <th>prescreen</th>\n",
       "      <th>ma_detection_0.5</th>\n",
       "      <th>ma_detection_0.6</th>\n",
       "      <th>ma_detection_0.7</th>\n",
       "      <th>ma_detection_0.8</th>\n",
       "      <th>ma_detection_0.9</th>\n",
       "      <th>ma_detection_1.0</th>\n",
       "      <th>exudates_0.1</th>\n",
       "      <th>exudates_0.2</th>\n",
       "      <th>exudates_0.3</th>\n",
       "      <th>exudates_0.4</th>\n",
       "      <th>exudates_0.5</th>\n",
       "      <th>exudates_0.6</th>\n",
       "      <th>exudates_0.7</th>\n",
       "      <th>exudates_0.8</th>\n",
       "      <th>dist_macula_optic</th>\n",
       "      <th>diameter_optic</th>\n",
       "      <th>am_fm</th>\n",
       "      <th>Class</th>\n",
       "    </tr>\n",
       "  </thead>\n",
       "  <tbody>\n",
       "    <tr>\n",
       "      <th>0</th>\n",
       "      <td>1.0</td>\n",
       "      <td>1.0</td>\n",
       "      <td>22.0</td>\n",
       "      <td>22.0</td>\n",
       "      <td>22.0</td>\n",
       "      <td>19.0</td>\n",
       "      <td>18.0</td>\n",
       "      <td>14.0</td>\n",
       "      <td>49.895756</td>\n",
       "      <td>17.775994</td>\n",
       "      <td>5.270920</td>\n",
       "      <td>0.771761</td>\n",
       "      <td>0.018632</td>\n",
       "      <td>0.006864</td>\n",
       "      <td>0.003923</td>\n",
       "      <td>0.003923</td>\n",
       "      <td>0.486903</td>\n",
       "      <td>0.100025</td>\n",
       "      <td>1.0</td>\n",
       "      <td>0</td>\n",
       "    </tr>\n",
       "    <tr>\n",
       "      <th>1</th>\n",
       "      <td>1.0</td>\n",
       "      <td>1.0</td>\n",
       "      <td>24.0</td>\n",
       "      <td>24.0</td>\n",
       "      <td>22.0</td>\n",
       "      <td>18.0</td>\n",
       "      <td>16.0</td>\n",
       "      <td>13.0</td>\n",
       "      <td>57.709936</td>\n",
       "      <td>23.799994</td>\n",
       "      <td>3.325423</td>\n",
       "      <td>0.234185</td>\n",
       "      <td>0.003903</td>\n",
       "      <td>0.003903</td>\n",
       "      <td>0.003903</td>\n",
       "      <td>0.003903</td>\n",
       "      <td>0.520908</td>\n",
       "      <td>0.144414</td>\n",
       "      <td>0.0</td>\n",
       "      <td>0</td>\n",
       "    </tr>\n",
       "    <tr>\n",
       "      <th>2</th>\n",
       "      <td>1.0</td>\n",
       "      <td>1.0</td>\n",
       "      <td>62.0</td>\n",
       "      <td>60.0</td>\n",
       "      <td>59.0</td>\n",
       "      <td>54.0</td>\n",
       "      <td>47.0</td>\n",
       "      <td>33.0</td>\n",
       "      <td>55.831441</td>\n",
       "      <td>27.993933</td>\n",
       "      <td>12.687485</td>\n",
       "      <td>4.852282</td>\n",
       "      <td>1.393889</td>\n",
       "      <td>0.373252</td>\n",
       "      <td>0.041817</td>\n",
       "      <td>0.007744</td>\n",
       "      <td>0.530904</td>\n",
       "      <td>0.128548</td>\n",
       "      <td>0.0</td>\n",
       "      <td>1</td>\n",
       "    </tr>\n",
       "    <tr>\n",
       "      <th>3</th>\n",
       "      <td>1.0</td>\n",
       "      <td>1.0</td>\n",
       "      <td>55.0</td>\n",
       "      <td>53.0</td>\n",
       "      <td>53.0</td>\n",
       "      <td>50.0</td>\n",
       "      <td>43.0</td>\n",
       "      <td>31.0</td>\n",
       "      <td>40.467228</td>\n",
       "      <td>18.445954</td>\n",
       "      <td>9.118901</td>\n",
       "      <td>3.079428</td>\n",
       "      <td>0.840261</td>\n",
       "      <td>0.272434</td>\n",
       "      <td>0.007653</td>\n",
       "      <td>0.001531</td>\n",
       "      <td>0.483284</td>\n",
       "      <td>0.114790</td>\n",
       "      <td>0.0</td>\n",
       "      <td>0</td>\n",
       "    </tr>\n",
       "    <tr>\n",
       "      <th>4</th>\n",
       "      <td>1.0</td>\n",
       "      <td>1.0</td>\n",
       "      <td>44.0</td>\n",
       "      <td>44.0</td>\n",
       "      <td>44.0</td>\n",
       "      <td>41.0</td>\n",
       "      <td>39.0</td>\n",
       "      <td>27.0</td>\n",
       "      <td>18.026254</td>\n",
       "      <td>8.570709</td>\n",
       "      <td>0.410381</td>\n",
       "      <td>0.000000</td>\n",
       "      <td>0.000000</td>\n",
       "      <td>0.000000</td>\n",
       "      <td>0.000000</td>\n",
       "      <td>0.000000</td>\n",
       "      <td>0.475935</td>\n",
       "      <td>0.123572</td>\n",
       "      <td>0.0</td>\n",
       "      <td>1</td>\n",
       "    </tr>\n",
       "  </tbody>\n",
       "</table>\n",
       "</div>"
      ],
      "text/plain": [
       "   quality  prescreen  ma_detection_0.5  ma_detection_0.6  ma_detection_0.7  \\\n",
       "0      1.0        1.0              22.0              22.0              22.0   \n",
       "1      1.0        1.0              24.0              24.0              22.0   \n",
       "2      1.0        1.0              62.0              60.0              59.0   \n",
       "3      1.0        1.0              55.0              53.0              53.0   \n",
       "4      1.0        1.0              44.0              44.0              44.0   \n",
       "\n",
       "   ma_detection_0.8  ma_detection_0.9  ma_detection_1.0  exudates_0.1  \\\n",
       "0              19.0              18.0              14.0     49.895756   \n",
       "1              18.0              16.0              13.0     57.709936   \n",
       "2              54.0              47.0              33.0     55.831441   \n",
       "3              50.0              43.0              31.0     40.467228   \n",
       "4              41.0              39.0              27.0     18.026254   \n",
       "\n",
       "   exudates_0.2  exudates_0.3  exudates_0.4  exudates_0.5  exudates_0.6  \\\n",
       "0     17.775994      5.270920      0.771761      0.018632      0.006864   \n",
       "1     23.799994      3.325423      0.234185      0.003903      0.003903   \n",
       "2     27.993933     12.687485      4.852282      1.393889      0.373252   \n",
       "3     18.445954      9.118901      3.079428      0.840261      0.272434   \n",
       "4      8.570709      0.410381      0.000000      0.000000      0.000000   \n",
       "\n",
       "   exudates_0.7  exudates_0.8  dist_macula_optic  diameter_optic  am_fm  Class  \n",
       "0      0.003923      0.003923           0.486903        0.100025    1.0      0  \n",
       "1      0.003903      0.003903           0.520908        0.144414    0.0      0  \n",
       "2      0.041817      0.007744           0.530904        0.128548    0.0      1  \n",
       "3      0.007653      0.001531           0.483284        0.114790    0.0      0  \n",
       "4      0.000000      0.000000           0.475935        0.123572    0.0      1  "
      ]
     },
     "execution_count": 61,
     "metadata": {},
     "output_type": "execute_result"
    }
   ],
   "source": [
    "df.head()"
   ]
  },
  {
   "cell_type": "markdown",
   "metadata": {},
   "source": [
    "# Check for any missing value"
   ]
  },
  {
   "cell_type": "code",
   "execution_count": 62,
   "metadata": {},
   "outputs": [
    {
     "data": {
      "text/plain": [
       "quality              False\n",
       "prescreen            False\n",
       "ma_detection_0.5     False\n",
       "ma_detection_0.6     False\n",
       "ma_detection_0.7     False\n",
       "ma_detection_0.8     False\n",
       "ma_detection_0.9     False\n",
       "ma_detection_1.0     False\n",
       "exudates_0.1         False\n",
       "exudates_0.2         False\n",
       "exudates_0.3         False\n",
       "exudates_0.4         False\n",
       "exudates_0.5         False\n",
       "exudates_0.6         False\n",
       "exudates_0.7         False\n",
       "exudates_0.8         False\n",
       "dist_macula_optic    False\n",
       "diameter_optic       False\n",
       "am_fm                False\n",
       "Class                False\n",
       "dtype: bool"
      ]
     },
     "execution_count": 62,
     "metadata": {},
     "output_type": "execute_result"
    }
   ],
   "source": [
    "df.isna().any()"
   ]
  },
  {
   "cell_type": "markdown",
   "metadata": {},
   "source": [
    "# Clean the data\n",
    "- Clean the 'Class' variable to integer value"
   ]
  },
  {
   "cell_type": "code",
   "execution_count": 65,
   "metadata": {},
   "outputs": [
    {
     "data": {
      "text/plain": [
       "0    0\n",
       "1    0\n",
       "2    1\n",
       "3    0\n",
       "4    1\n",
       "Name: Class, dtype: int32"
      ]
     },
     "execution_count": 65,
     "metadata": {},
     "output_type": "execute_result"
    }
   ],
   "source": [
    "df[\"Class\"] = [j.replace(\"b\", \"\").replace(\"'\", \"\") for j in df[\"Class\"].astype(str)]\n",
    "df[\"Class\"] = df[\"Class\"].astype(int)\n",
    "df[\"Class\"].head()"
   ]
  },
  {
   "cell_type": "markdown",
   "metadata": {},
   "source": [
    "# Data Partitioning\n",
    "- Subset the features as X, and target class as Y\n",
    "- Split the data into 60% training set and 40% testing set. Stratify split is performed to maintain the class proportion among training and testing set."
   ]
  },
  {
   "cell_type": "code",
   "execution_count": 70,
   "metadata": {},
   "outputs": [
    {
     "name": "stdout",
     "output_type": "stream",
     "text": [
      "(690, 19) (461, 19) (690,) (461,)\n",
      "0.5304347826086957 0.5314533622559653\n"
     ]
    }
   ],
   "source": [
    "Y = df.iloc[:, -1]\n",
    "X = df.iloc[:, :-1]\n",
    "x_train, x_test, y_train, y_test = train_test_split(X, Y, test_size = 0.4, stratify = Y, random_state = 123)\n",
    "print(x_train.shape, x_test.shape, y_train.shape, y_test.shape)\n",
    "print(y_train.mean(), y_test.mean()) # proportion of class = 1 is similar for training and test set"
   ]
  },
  {
   "cell_type": "markdown",
   "metadata": {},
   "source": [
    "# Modelling \n",
    "4 models were trained and tested on the data:\n",
    "1. Logistic Regression\n",
    "2. Random Forest classifier\n",
    "3. K-Nearest Neighbor classifier\n",
    "4. Linear Support Vector Machine (SVM)"
   ]
  },
  {
   "cell_type": "markdown",
   "metadata": {},
   "source": [
    "### Logistic Regression"
   ]
  },
  {
   "cell_type": "code",
   "execution_count": 71,
   "metadata": {},
   "outputs": [
    {
     "name": "stderr",
     "output_type": "stream",
     "text": [
      "C:\\Users\\jy\\Anaconda3\\lib\\site-packages\\sklearn\\linear_model\\logistic.py:432: FutureWarning: Default solver will be changed to 'lbfgs' in 0.22. Specify a solver to silence this warning.\n",
      "  FutureWarning)\n"
     ]
    },
    {
     "data": {
      "text/plain": [
       "{'0': {'precision': 0.7142857142857143,\n",
       "  'recall': 0.8101851851851852,\n",
       "  'f1-score': 0.7592190889370932,\n",
       "  'support': 216},\n",
       " '1': {'precision': 0.8101851851851852,\n",
       "  'recall': 0.7142857142857143,\n",
       "  'f1-score': 0.7592190889370932,\n",
       "  'support': 245},\n",
       " 'accuracy': 0.7592190889370932,\n",
       " 'macro avg': {'precision': 0.7622354497354498,\n",
       "  'recall': 0.7622354497354498,\n",
       "  'f1-score': 0.7592190889370932,\n",
       "  'support': 461},\n",
       " 'weighted avg': {'precision': 0.7652518105338062,\n",
       "  'recall': 0.7592190889370932,\n",
       "  'f1-score': 0.7592190889370932,\n",
       "  'support': 461}}"
      ]
     },
     "execution_count": 71,
     "metadata": {},
     "output_type": "execute_result"
    }
   ],
   "source": [
    "reg = LogisticRegression()\n",
    "reg.fit(x_train, y_train)\n",
    "y_pred = reg.predict(x_test)\n",
    "reg.score(x_test, y_test)\n",
    "classification_report(y_test, y_pred, output_dict = True)"
   ]
  },
  {
   "cell_type": "markdown",
   "metadata": {},
   "source": [
    "### Random Forest Classifier"
   ]
  },
  {
   "cell_type": "code",
   "execution_count": 54,
   "metadata": {},
   "outputs": [
    {
     "name": "stderr",
     "output_type": "stream",
     "text": [
      "C:\\Users\\jy\\Anaconda3\\lib\\site-packages\\sklearn\\ensemble\\forest.py:245: FutureWarning: The default value of n_estimators will change from 10 in version 0.20 to 100 in 0.22.\n",
      "  \"10 in version 0.20 to 100 in 0.22.\", FutureWarning)\n"
     ]
    },
    {
     "data": {
      "text/plain": [
       "{'0': {'precision': 0.6375,\n",
       "  'recall': 0.7083333333333334,\n",
       "  'f1-score': 0.6710526315789473,\n",
       "  'support': 216},\n",
       " '1': {'precision': 0.7149321266968326,\n",
       "  'recall': 0.6448979591836734,\n",
       "  'f1-score': 0.6781115879828327,\n",
       "  'support': 245},\n",
       " 'accuracy': 0.6746203904555315,\n",
       " 'macro avg': {'precision': 0.6762160633484162,\n",
       "  'recall': 0.6766156462585033,\n",
       "  'f1-score': 0.67458210978089,\n",
       "  'support': 461},\n",
       " 'weighted avg': {'precision': 0.6786515640796615,\n",
       "  'recall': 0.6746203904555315,\n",
       "  'f1-score': 0.6748041376938105,\n",
       "  'support': 461}}"
      ]
     },
     "execution_count": 54,
     "metadata": {},
     "output_type": "execute_result"
    }
   ],
   "source": [
    "rf = RandomForestClassifier()\n",
    "rf.fit(x_train, y_train)\n",
    "y_pred = rf.predict(x_test)\n",
    "rf.score(x_test, y_test)\n",
    "classification_report(y_test, y_pred, output_dict = True)"
   ]
  },
  {
   "cell_type": "markdown",
   "metadata": {},
   "source": [
    "### K-Nearest Neighbors Classifier"
   ]
  },
  {
   "cell_type": "code",
   "execution_count": 59,
   "metadata": {},
   "outputs": [
    {
     "data": {
      "text/plain": [
       "{'0': {'precision': 0.6290322580645161,\n",
       "  'recall': 0.7222222222222222,\n",
       "  'f1-score': 0.6724137931034483,\n",
       "  'support': 216},\n",
       " '1': {'precision': 0.7183098591549296,\n",
       "  'recall': 0.6244897959183674,\n",
       "  'f1-score': 0.6681222707423581,\n",
       "  'support': 245},\n",
       " 'accuracy': 0.6702819956616052,\n",
       " 'macro avg': {'precision': 0.6736710586097229,\n",
       "  'recall': 0.6733560090702948,\n",
       "  'f1-score': 0.6702680319229032,\n",
       "  'support': 461},\n",
       " 'weighted avg': {'precision': 0.6764791393381632,\n",
       "  'recall': 0.6702819956616052,\n",
       "  'f1-score': 0.6701330491154502,\n",
       "  'support': 461}}"
      ]
     },
     "execution_count": 59,
     "metadata": {},
     "output_type": "execute_result"
    }
   ],
   "source": [
    "knn = KNeighborsClassifier()\n",
    "knn.fit(x_train, y_train)\n",
    "y_pred= knn.predict(x_test)\n",
    "knn.score(x_test, y_test)\n",
    "classification_report(y_test, y_pred, output_dict = True)"
   ]
  },
  {
   "cell_type": "markdown",
   "metadata": {},
   "source": [
    "### Linear Support Vector Machine (SVM)"
   ]
  },
  {
   "cell_type": "code",
   "execution_count": 60,
   "metadata": {},
   "outputs": [
    {
     "name": "stderr",
     "output_type": "stream",
     "text": [
      "C:\\Users\\jy\\Anaconda3\\lib\\site-packages\\sklearn\\svm\\base.py:929: ConvergenceWarning: Liblinear failed to converge, increase the number of iterations.\n",
      "  \"the number of iterations.\", ConvergenceWarning)\n"
     ]
    },
    {
     "data": {
      "text/plain": [
       "{'0': {'precision': 0.6554054054054054,\n",
       "  'recall': 0.8981481481481481,\n",
       "  'f1-score': 0.7578124999999999,\n",
       "  'support': 216},\n",
       " '1': {'precision': 0.8666666666666667,\n",
       "  'recall': 0.5836734693877551,\n",
       "  'f1-score': 0.6975609756097562,\n",
       "  'support': 245},\n",
       " 'accuracy': 0.7310195227765727,\n",
       " 'macro avg': {'precision': 0.761036036036036,\n",
       "  'recall': 0.7409108087679517,\n",
       "  'f1-score': 0.727686737804878,\n",
       "  'support': 461},\n",
       " 'weighted avg': {'precision': 0.7676809130171386,\n",
       "  'recall': 0.7310195227765727,\n",
       "  'f1-score': 0.7257916247817575,\n",
       "  'support': 461}}"
      ]
     },
     "execution_count": 60,
     "metadata": {},
     "output_type": "execute_result"
    }
   ],
   "source": [
    "svc = LinearSVC()\n",
    "svc.fit(x_train, y_train)\n",
    "y_pred= svc.predict(x_test)\n",
    "svc.score(x_test, y_test)\n",
    "classification_report(y_test, y_pred, output_dict = True)"
   ]
  },
  {
   "cell_type": "code",
   "execution_count": null,
   "metadata": {},
   "outputs": [],
   "source": []
  }
 ],
 "metadata": {
  "kernelspec": {
   "display_name": "Python 3",
   "language": "python",
   "name": "python3"
  },
  "language_info": {
   "codemirror_mode": {
    "name": "ipython",
    "version": 3
   },
   "file_extension": ".py",
   "mimetype": "text/x-python",
   "name": "python",
   "nbconvert_exporter": "python",
   "pygments_lexer": "ipython3",
   "version": "3.7.4"
  }
 },
 "nbformat": 4,
 "nbformat_minor": 4
}
