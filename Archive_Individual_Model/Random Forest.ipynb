{
 "cells": [
  {
   "cell_type": "code",
   "execution_count": 34,
   "metadata": {},
   "outputs": [],
   "source": [
    "from scipy.io import arff\n",
    "import pandas as pd\n",
    "import numpy as np\n",
    "import plotly.express as px\n",
    "from plotly.offline import plot\n",
    "\n",
    "import sklearn\n",
    "from sklearn.model_selection import train_test_split\n",
    "from sklearn.linear_model import LogisticRegression\n",
    "from sklearn.decomposition import PCA\n",
    "from sklearn.ensemble import RandomForestClassifier\n",
    "from sklearn.neighbors import KNeighborsClassifier\n",
    "from sklearn.svm import SVC, LinearSVC\n",
    "from sklearn.metrics import classification_report\n",
    "from sklearn.model_selection import GridSearchCV \n",
    "import matplotlib.pyplot as plt\n",
    "\n",
    "from helper import get_report_df\n",
    "\n",
    "data = arff.loadarff('messidor_features.arff')\n",
    "df = pd.DataFrame(data[0])\n",
    "df.columns = [\"quality\", \"prescreen\", \n",
    "              \"ma_detection_0.5\", \"ma_detection_0.6\", \"ma_detection_0.7\", \n",
    "              \"ma_detection_0.8\", \"ma_detection_0.9\", \"ma_detection_1.0\",\n",
    "              \"exudates_0.1\", \"exudates_0.2\", \"exudates_0.3\",\n",
    "              \"exudates_0.4\", \"exudates_0.5\", \"exudates_0.6\",\n",
    "              \"exudates_0.7\", \"exudates_0.8\",\n",
    "              \"dist_macula_optic\", \"diameter_optic\", \"am_fm\", \"Class\"\n",
    "             ]"
   ]
  },
  {
   "cell_type": "code",
   "execution_count": 17,
   "metadata": {},
   "outputs": [
    {
     "data": {
      "text/plain": [
       "0    0\n",
       "1    0\n",
       "2    1\n",
       "3    0\n",
       "4    1\n",
       "Name: Class, dtype: int32"
      ]
     },
     "execution_count": 17,
     "metadata": {},
     "output_type": "execute_result"
    }
   ],
   "source": [
    "#Data Cleansing\n",
    "df[\"Class\"] = [j.replace(\"b\", \"\").replace(\"'\", \"\") for j in df[\"Class\"].astype(str)]\n",
    "df[\"Class\"] = df[\"Class\"].astype(int)\n",
    "df[\"Class\"].head()"
   ]
  },
  {
   "cell_type": "code",
   "execution_count": 18,
   "metadata": {},
   "outputs": [
    {
     "name": "stdout",
     "output_type": "stream",
     "text": [
      "(690, 19) (461, 19) (690,) (461,)\n",
      "0.5304347826086957 0.5314533622559653\n"
     ]
    }
   ],
   "source": [
    "#Partioning Data\n",
    "Y = df.iloc[:, -1]\n",
    "X = df.iloc[:, :-1]\n",
    "x_train, x_test, y_train, y_test = train_test_split(X, Y, test_size = 0.4, stratify = Y, random_state = 123)\n",
    "print(x_train.shape, x_test.shape, y_train.shape, y_test.shape)\n",
    "print(y_train.mean(), y_test.mean())"
   ]
  },
  {
   "cell_type": "code",
   "execution_count": 22,
   "metadata": {},
   "outputs": [
    {
     "name": "stdout",
     "output_type": "stream",
     "text": [
      "Best n_estimators: 35\n",
      "Best Score: 0.6623188405797101\n",
      "Wall time: 19.3 s\n"
     ]
    }
   ],
   "source": [
    "%%time\n",
    "RF = RandomForestClassifier(max_leaf_nodes=16,n_jobs=-1)\n",
    "param_grid = {\"n_estimators\": np.arange(5,100,5)}\n",
    "rf_grid_cv = GridSearchCV(RF, param_grid, cv=5)\n",
    "#fit model to data\n",
    "rf_grid_cv.fit(x_train, y_train)\n",
    "print('Best n_estimators:', rf_grid_cv.best_params_['n_estimators'])\n",
    "print('Best Score:', rf_grid_cv.best_score_)"
   ]
  },
  {
   "cell_type": "code",
   "execution_count": 24,
   "metadata": {},
   "outputs": [
    {
     "data": {
      "text/plain": [
       "Text(0.5, 1.0, 'CV Mean Accuracy vs n_estimators')"
      ]
     },
     "execution_count": 24,
     "metadata": {},
     "output_type": "execute_result"
    },
    {
     "data": {
      "image/png": "[encoded data removed]",
      "text/plain": [
       "<Figure size 432x288 with 1 Axes>"
      ]
     },
     "metadata": {
      "needs_background": "light"
     },
     "output_type": "display_data"
    }
   ],
   "source": [
    "#Data Frame \n",
    "\n",
    "rf_df = pd.DataFrame(dict(n_estimators = param_grid[\"n_estimators\"], mean_accuracy = rf_grid_cv.cv_results_[\"mean_test_score\"]))\n",
    "rf_df.plot(x = \"n_estimators\", y = \"mean_accuracy\")\n",
    "plt.xlabel(\"n_estimators\")\n",
    "plt.ylabel(\"CV Mean Accuracy\")\n",
    "plt.title(\"CV Mean Accuracy vs n_estimators\")\n",
    "\n"
   ]
  },
  {
   "cell_type": "code",
   "execution_count": 35,
   "metadata": {},
   "outputs": [
    {
     "data": {
      "text/html": [
       "<div>\n",
       "<style scoped>\n",
       "    .dataframe tbody tr th:only-of-type {\n",
       "        vertical-align: middle;\n",
       "    }\n",
       "\n",
       "    .dataframe tbody tr th {\n",
       "        vertical-align: top;\n",
       "    }\n",
       "\n",
       "    .dataframe thead th {\n",
       "        text-align: right;\n",
       "    }\n",
       "</style>\n",
       "<table border=\"1\" class=\"dataframe\">\n",
       "  <thead>\n",
       "    <tr style=\"text-align: right;\">\n",
       "      <th></th>\n",
       "      <th>precision</th>\n",
       "      <th>recall</th>\n",
       "      <th>f1</th>\n",
       "      <th>accuracy</th>\n",
       "      <th>sample</th>\n",
       "    </tr>\n",
       "  </thead>\n",
       "  <tbody>\n",
       "    <tr>\n",
       "      <th>0</th>\n",
       "      <td>0.840979</td>\n",
       "      <td>0.751366</td>\n",
       "      <td>0.793651</td>\n",
       "      <td>0.792754</td>\n",
       "      <td>training</td>\n",
       "    </tr>\n",
       "    <tr>\n",
       "      <th>0</th>\n",
       "      <td>0.683544</td>\n",
       "      <td>0.661224</td>\n",
       "      <td>0.672199</td>\n",
       "      <td>0.657267</td>\n",
       "      <td>testing</td>\n",
       "    </tr>\n",
       "  </tbody>\n",
       "</table>\n",
       "</div>"
      ],
      "text/plain": [
       "   precision    recall        f1  accuracy    sample\n",
       "0   0.840979  0.751366  0.793651  0.792754  training\n",
       "0   0.683544  0.661224  0.672199  0.657267   testing"
      ]
     },
     "execution_count": 35,
     "metadata": {},
     "output_type": "execute_result"
    }
   ],
   "source": [
    "y_train_pred= rf_grid_cv.predict(x_train)\n",
    "y_test_pred= rf_grid_cv.predict(x_test)\n",
    "\n",
    "report_train = classification_report(y_train, y_train_pred, output_dict = True)\n",
    "report_test = classification_report(y_test, y_test_pred, output_dict = True)\n",
    "\n",
    "report_train_df = get_report_df(report_train, label = \"training\")\n",
    "report_test_df = get_report_df(report_test, label = \"testing\")\n",
    "\n",
    "report_df = pd.concat([report_train_df, report_test_df])\n",
    "report_df\n"
   ]
  },
  {
   "cell_type": "code",
   "execution_count": null,
   "metadata": {},
   "outputs": [],
   "source": []
  }
 ],
 "metadata": {
  "kernelspec": {
   "display_name": "Python 3",
   "language": "python",
   "name": "python3"
  },
  "language_info": {
   "codemirror_mode": {
    "name": "ipython",
    "version": 3
   },
   "file_extension": ".py",
   "mimetype": "text/x-python",
   "name": "python",
   "nbconvert_exporter": "python",
   "pygments_lexer": "ipython3",
   "version": "3.7.4"
  }
 },
 "nbformat": 4,
 "nbformat_minor": 4
}
