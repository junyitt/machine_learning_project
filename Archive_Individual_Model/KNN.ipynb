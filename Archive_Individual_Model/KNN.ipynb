{
 "cells": [
  {
   "cell_type": "markdown",
   "metadata": {},
   "source": [
    "#  Diabetic Retinopathy Debrecen Data Set\n",
    "\n",
    "\n",
    "## Data source:\n",
    "The data used in this machine learning project can be found at UCI Machine Learning Repository.  \n",
    "<https://archive.ics.uci.edu/ml/datasets/Diabetic+Retinopathy+Debrecen+Data+Set>\n",
    "\n",
    "## Attribute Information:\n",
    "\n",
    "0. quality: The binary result of quality assessment. 0 = bad quality 1 = sufficient quality.\n",
    "1. prescreen: The binary result of pre-screening, where 1 indicates severe retinal abnormality and 0 its lack.\n",
    "2. ma_detection_0.5: The results of MA detection, which is the number of MAs found at the confidence level alpha = 0.5\n",
    "3. ma_detection_0.6: The results of MA detection, which is the number of MAs found at the confidence level alpha = 0.6\n",
    "4. ma_detection_0.7: The results of MA detection, which is the number of MAs found at the confidence level alpha = 0.7\n",
    "5. ma_detection_0.8: The results of MA detection, which is the number of MAs found at the confidence level alpha = 0.8\n",
    "6. ma_detection_0.9: The results of MA detection, which is the number of MAs found at the confidence level alpha = 0.9\n",
    "7. ma_detection_1.0: The results of MA detection, which is the number of MAs found at the confidence level alpha = 1.0\n",
    "8. exudates_0.1: The number of exudates found at the confidence level alpha = 0.1 with normalization*.\n",
    "9. exudates_0.2: The number of exudates found at the confidence level alpha = 0.2 with normalization*.\n",
    "10. exudates_0.3: The number of exudates found at the confidence level alpha = 0.3 with normalization*.\n",
    "11. exudates_0.4: The number of exudates found at the confidence level alpha = 0.4 with normalization*.\n",
    "12. exudates_0.5: The number of exudates found at the confidence level alpha = 0.5 with normalization*.\n",
    "13. exudates_0.6: The number of exudates found at the confidence level alpha = 0.6 with normalization*.\n",
    "14. exudates_0.7: The number of exudates found at the confidence level alpha = 0.7 with normalization*.\n",
    "15. exudates_0.8: The number of exudates found at the confidence level alpha = 0.8 with normalization*.\n",
    "\n",
    "* Exudates are represented by a set of points rather than the number of pixels constructing the lesions, hence these features are normalized by dividing the number of lesions with the diameter of the ROI to compensate different image sizes.\n",
    "\n",
    "16. dist_macula_optic: The euclidean distance of the center of the macula and the center of the optic disc to provide important information regarding the patient's condition. This feature is also normalized with the diameter of the ROI.\n",
    "17. diameter_optic: The diameter of the optic disc.\n",
    "18. am_fm: The binary result of the AM/FM-based classification.\n",
    "19. Class: Class label. 1 = contains signs of Diabetic Retinopathy (DR) (Accumulative label for the Messidor classes 1, 2, 3), 0 = no signs of DR.\n"
   ]
  },
  {
   "cell_type": "markdown",
   "metadata": {},
   "source": [
    "# Load the library and data\n",
    "\n",
    "- Load the required libraries.\n",
    "- Import the arff data and convert it into a Pandas dataframe.\n",
    "- Add the column names to the dataframe."
   ]
  },
  {
   "cell_type": "code",
   "execution_count": 1,
   "metadata": {},
   "outputs": [],
   "source": [
    "from scipy.io import arff\n",
    "import pandas as pd\n",
    "import numpy as np\n",
    "import plotly.express as px\n",
    "from plotly.offline import plot\n",
    "import math\n",
    "from helper import get_report_df\n",
    "\n",
    "import sklearn\n",
    "from sklearn.model_selection import train_test_split\n",
    "from sklearn.linear_model import LogisticRegression\n",
    "from sklearn.decomposition import PCA\n",
    "from sklearn.ensemble import RandomForestClassifier\n",
    "from sklearn.neighbors import KNeighborsClassifier\n",
    "from sklearn.svm import SVC, LinearSVC\n",
    "from sklearn.metrics import classification_report\n",
    "from sklearn.metrics import mean_squared_error\n",
    "from sklearn.model_selection import GridSearchCV\n",
    "import matplotlib.pyplot as plt\n",
    "\n",
    "data = arff.loadarff('messidor_features.arff')\n",
    "df = pd.DataFrame(data[0])\n",
    "df.columns = [\"quality\", \"prescreen\", \n",
    "              \"ma_detection_0.5\", \"ma_detection_0.6\", \"ma_detection_0.7\", \n",
    "              \"ma_detection_0.8\", \"ma_detection_0.9\", \"ma_detection_1.0\",\n",
    "              \"exudates_0.1\", \"exudates_0.2\", \"exudates_0.3\",\n",
    "              \"exudates_0.4\", \"exudates_0.5\", \"exudates_0.6\",\n",
    "              \"exudates_0.7\", \"exudates_0.8\",\n",
    "              \"dist_macula_optic\", \"diameter_optic\", \"am_fm\", \"Class\"\n",
    "             ]"
   ]
  },
  {
   "cell_type": "markdown",
   "metadata": {},
   "source": [
    "# Preview the data"
   ]
  },
  {
   "cell_type": "code",
   "execution_count": 2,
   "metadata": {},
   "outputs": [
    {
     "data": {
      "text/html": [
       "<div>\n",
       "<style scoped>\n",
       "    .dataframe tbody tr th:only-of-type {\n",
       "        vertical-align: middle;\n",
       "    }\n",
       "\n",
       "    .dataframe tbody tr th {\n",
       "        vertical-align: top;\n",
       "    }\n",
       "\n",
       "    .dataframe thead th {\n",
       "        text-align: right;\n",
       "    }\n",
       "</style>\n",
       "<table border=\"1\" class=\"dataframe\">\n",
       "  <thead>\n",
       "    <tr style=\"text-align: right;\">\n",
       "      <th></th>\n",
       "      <th>quality</th>\n",
       "      <th>prescreen</th>\n",
       "      <th>ma_detection_0.5</th>\n",
       "      <th>ma_detection_0.6</th>\n",
       "      <th>ma_detection_0.7</th>\n",
       "      <th>ma_detection_0.8</th>\n",
       "      <th>ma_detection_0.9</th>\n",
       "      <th>ma_detection_1.0</th>\n",
       "      <th>exudates_0.1</th>\n",
       "      <th>exudates_0.2</th>\n",
       "      <th>exudates_0.3</th>\n",
       "      <th>exudates_0.4</th>\n",
       "      <th>exudates_0.5</th>\n",
       "      <th>exudates_0.6</th>\n",
       "      <th>exudates_0.7</th>\n",
       "      <th>exudates_0.8</th>\n",
       "      <th>dist_macula_optic</th>\n",
       "      <th>diameter_optic</th>\n",
       "      <th>am_fm</th>\n",
       "      <th>Class</th>\n",
       "    </tr>\n",
       "  </thead>\n",
       "  <tbody>\n",
       "    <tr>\n",
       "      <th>0</th>\n",
       "      <td>1.0</td>\n",
       "      <td>1.0</td>\n",
       "      <td>22.0</td>\n",
       "      <td>22.0</td>\n",
       "      <td>22.0</td>\n",
       "      <td>19.0</td>\n",
       "      <td>18.0</td>\n",
       "      <td>14.0</td>\n",
       "      <td>49.895756</td>\n",
       "      <td>17.775994</td>\n",
       "      <td>5.270920</td>\n",
       "      <td>0.771761</td>\n",
       "      <td>0.018632</td>\n",
       "      <td>0.006864</td>\n",
       "      <td>0.003923</td>\n",
       "      <td>0.003923</td>\n",
       "      <td>0.486903</td>\n",
       "      <td>0.100025</td>\n",
       "      <td>1.0</td>\n",
       "      <td>b'0'</td>\n",
       "    </tr>\n",
       "    <tr>\n",
       "      <th>1</th>\n",
       "      <td>1.0</td>\n",
       "      <td>1.0</td>\n",
       "      <td>24.0</td>\n",
       "      <td>24.0</td>\n",
       "      <td>22.0</td>\n",
       "      <td>18.0</td>\n",
       "      <td>16.0</td>\n",
       "      <td>13.0</td>\n",
       "      <td>57.709936</td>\n",
       "      <td>23.799994</td>\n",
       "      <td>3.325423</td>\n",
       "      <td>0.234185</td>\n",
       "      <td>0.003903</td>\n",
       "      <td>0.003903</td>\n",
       "      <td>0.003903</td>\n",
       "      <td>0.003903</td>\n",
       "      <td>0.520908</td>\n",
       "      <td>0.144414</td>\n",
       "      <td>0.0</td>\n",
       "      <td>b'0'</td>\n",
       "    </tr>\n",
       "    <tr>\n",
       "      <th>2</th>\n",
       "      <td>1.0</td>\n",
       "      <td>1.0</td>\n",
       "      <td>62.0</td>\n",
       "      <td>60.0</td>\n",
       "      <td>59.0</td>\n",
       "      <td>54.0</td>\n",
       "      <td>47.0</td>\n",
       "      <td>33.0</td>\n",
       "      <td>55.831441</td>\n",
       "      <td>27.993933</td>\n",
       "      <td>12.687485</td>\n",
       "      <td>4.852282</td>\n",
       "      <td>1.393889</td>\n",
       "      <td>0.373252</td>\n",
       "      <td>0.041817</td>\n",
       "      <td>0.007744</td>\n",
       "      <td>0.530904</td>\n",
       "      <td>0.128548</td>\n",
       "      <td>0.0</td>\n",
       "      <td>b'1'</td>\n",
       "    </tr>\n",
       "    <tr>\n",
       "      <th>3</th>\n",
       "      <td>1.0</td>\n",
       "      <td>1.0</td>\n",
       "      <td>55.0</td>\n",
       "      <td>53.0</td>\n",
       "      <td>53.0</td>\n",
       "      <td>50.0</td>\n",
       "      <td>43.0</td>\n",
       "      <td>31.0</td>\n",
       "      <td>40.467228</td>\n",
       "      <td>18.445954</td>\n",
       "      <td>9.118901</td>\n",
       "      <td>3.079428</td>\n",
       "      <td>0.840261</td>\n",
       "      <td>0.272434</td>\n",
       "      <td>0.007653</td>\n",
       "      <td>0.001531</td>\n",
       "      <td>0.483284</td>\n",
       "      <td>0.114790</td>\n",
       "      <td>0.0</td>\n",
       "      <td>b'0'</td>\n",
       "    </tr>\n",
       "    <tr>\n",
       "      <th>4</th>\n",
       "      <td>1.0</td>\n",
       "      <td>1.0</td>\n",
       "      <td>44.0</td>\n",
       "      <td>44.0</td>\n",
       "      <td>44.0</td>\n",
       "      <td>41.0</td>\n",
       "      <td>39.0</td>\n",
       "      <td>27.0</td>\n",
       "      <td>18.026254</td>\n",
       "      <td>8.570709</td>\n",
       "      <td>0.410381</td>\n",
       "      <td>0.000000</td>\n",
       "      <td>0.000000</td>\n",
       "      <td>0.000000</td>\n",
       "      <td>0.000000</td>\n",
       "      <td>0.000000</td>\n",
       "      <td>0.475935</td>\n",
       "      <td>0.123572</td>\n",
       "      <td>0.0</td>\n",
       "      <td>b'1'</td>\n",
       "    </tr>\n",
       "  </tbody>\n",
       "</table>\n",
       "</div>"
      ],
      "text/plain": [
       "   quality  prescreen  ma_detection_0.5  ma_detection_0.6  ma_detection_0.7  \\\n",
       "0      1.0        1.0              22.0              22.0              22.0   \n",
       "1      1.0        1.0              24.0              24.0              22.0   \n",
       "2      1.0        1.0              62.0              60.0              59.0   \n",
       "3      1.0        1.0              55.0              53.0              53.0   \n",
       "4      1.0        1.0              44.0              44.0              44.0   \n",
       "\n",
       "   ma_detection_0.8  ma_detection_0.9  ma_detection_1.0  exudates_0.1  \\\n",
       "0              19.0              18.0              14.0     49.895756   \n",
       "1              18.0              16.0              13.0     57.709936   \n",
       "2              54.0              47.0              33.0     55.831441   \n",
       "3              50.0              43.0              31.0     40.467228   \n",
       "4              41.0              39.0              27.0     18.026254   \n",
       "\n",
       "   exudates_0.2  exudates_0.3  exudates_0.4  exudates_0.5  exudates_0.6  \\\n",
       "0     17.775994      5.270920      0.771761      0.018632      0.006864   \n",
       "1     23.799994      3.325423      0.234185      0.003903      0.003903   \n",
       "2     27.993933     12.687485      4.852282      1.393889      0.373252   \n",
       "3     18.445954      9.118901      3.079428      0.840261      0.272434   \n",
       "4      8.570709      0.410381      0.000000      0.000000      0.000000   \n",
       "\n",
       "   exudates_0.7  exudates_0.8  dist_macula_optic  diameter_optic  am_fm Class  \n",
       "0      0.003923      0.003923           0.486903        0.100025    1.0  b'0'  \n",
       "1      0.003903      0.003903           0.520908        0.144414    0.0  b'0'  \n",
       "2      0.041817      0.007744           0.530904        0.128548    0.0  b'1'  \n",
       "3      0.007653      0.001531           0.483284        0.114790    0.0  b'0'  \n",
       "4      0.000000      0.000000           0.475935        0.123572    0.0  b'1'  "
      ]
     },
     "execution_count": 2,
     "metadata": {},
     "output_type": "execute_result"
    }
   ],
   "source": [
    "df.head()"
   ]
  },
  {
   "cell_type": "markdown",
   "metadata": {},
   "source": [
    "# Check for any missing value\n",
    "There is no missing value as shown below."
   ]
  },
  {
   "cell_type": "code",
   "execution_count": 3,
   "metadata": {},
   "outputs": [
    {
     "data": {
      "text/plain": [
       "quality              False\n",
       "prescreen            False\n",
       "ma_detection_0.5     False\n",
       "ma_detection_0.6     False\n",
       "ma_detection_0.7     False\n",
       "ma_detection_0.8     False\n",
       "ma_detection_0.9     False\n",
       "ma_detection_1.0     False\n",
       "exudates_0.1         False\n",
       "exudates_0.2         False\n",
       "exudates_0.3         False\n",
       "exudates_0.4         False\n",
       "exudates_0.5         False\n",
       "exudates_0.6         False\n",
       "exudates_0.7         False\n",
       "exudates_0.8         False\n",
       "dist_macula_optic    False\n",
       "diameter_optic       False\n",
       "am_fm                False\n",
       "Class                False\n",
       "dtype: bool"
      ]
     },
     "execution_count": 3,
     "metadata": {},
     "output_type": "execute_result"
    }
   ],
   "source": [
    "df.isna().any()"
   ]
  },
  {
   "cell_type": "markdown",
   "metadata": {},
   "source": [
    "# Clean the data\n",
    "- Clean the 'Class' variable to integer value"
   ]
  },
  {
   "cell_type": "code",
   "execution_count": 4,
   "metadata": {},
   "outputs": [
    {
     "data": {
      "text/plain": [
       "0    0\n",
       "1    0\n",
       "2    1\n",
       "3    0\n",
       "4    1\n",
       "Name: Class, dtype: int32"
      ]
     },
     "execution_count": 4,
     "metadata": {},
     "output_type": "execute_result"
    }
   ],
   "source": [
    "df[\"Class\"] = [j.replace(\"b\", \"\").replace(\"'\", \"\") for j in df[\"Class\"].astype(str)]\n",
    "df[\"Class\"] = df[\"Class\"].astype(int)\n",
    "df[\"Class\"].head()"
   ]
  },
  {
   "cell_type": "markdown",
   "metadata": {},
   "source": [
    "# Data Partitioning\n",
    "- Subset the features as X, and target class as Y\n",
    "- Split the data into 60% training set and 40% testing set. Stratify split is performed to maintain the class proportion among training and testing set.\n",
    "- Note that the proportion of target class = 1 is 53.1%, which is approximately 50%. Hence, the target class is balanced, active measures such as oversampling is not required to balance the target class."
   ]
  },
  {
   "cell_type": "code",
   "execution_count": 5,
   "metadata": {},
   "outputs": [
    {
     "name": "stdout",
     "output_type": "stream",
     "text": [
      "(690, 19) (461, 19) (690,) (461,)\n",
      "0.5304347826086957 0.5314533622559653\n"
     ]
    }
   ],
   "source": [
    "Y = df.iloc[:, -1]\n",
    "X = df.iloc[:, :-1]\n",
    "x_train, x_test, y_train, y_test = train_test_split(X, Y, test_size = 0.4, stratify = Y, random_state = 123)\n",
    "print(x_train.shape, x_test.shape, y_train.shape, y_test.shape)\n",
    "print(y_train.mean(), y_test.mean()) # proportion of class = 1 is similar for training and test set (53%)"
   ]
  },
  {
   "cell_type": "markdown",
   "metadata": {},
   "source": [
    "# Modelling \n",
    "4 models were trained and tested on the data:\n",
    "1. Logistic Regression\n",
    "2. Random Forest classifier\n",
    "3. K-Nearest Neighbor classifier\n",
    "4. Linear Support Vector Machine (SVM)"
   ]
  },
  {
   "cell_type": "markdown",
   "metadata": {},
   "source": [
    "### K-Nearest Neighbors Classifier\n",
    "k-Nearest-Neighbors (k-NN) is a supervised machine learning model. \n",
    "Supervised learning is when a model learns from data that is already labeled.\n",
    "A supervised learning model takes in a set of input objects and output values.\n",
    "The model then trains on that data to learn how to map the inputs to the desired output so it can learn to make predictions on unseen data.\n",
    "k-NN models work by taking a data point and looking at the ‘k’ closest labeled data points. The data point is then assigned the label of the majority of the ‘k’ closest points."
   ]
  },
  {
   "cell_type": "markdown",
   "metadata": {},
   "source": [
    "<img src=\"https://miro.medium.com/max/929/1*T8Pnw0kiVbrPGnqnB2I_Zw.jpeg\">"
   ]
  },
  {
   "cell_type": "code",
   "execution_count": 6,
   "metadata": {},
   "outputs": [
    {
     "data": {
      "text/html": [
       "<div>\n",
       "<style scoped>\n",
       "    .dataframe tbody tr th:only-of-type {\n",
       "        vertical-align: middle;\n",
       "    }\n",
       "\n",
       "    .dataframe tbody tr th {\n",
       "        vertical-align: top;\n",
       "    }\n",
       "\n",
       "    .dataframe thead th {\n",
       "        text-align: right;\n",
       "    }\n",
       "</style>\n",
       "<table border=\"1\" class=\"dataframe\">\n",
       "  <thead>\n",
       "    <tr style=\"text-align: right;\">\n",
       "      <th></th>\n",
       "      <th>quality</th>\n",
       "      <th>prescreen</th>\n",
       "      <th>ma_detection_0.5</th>\n",
       "      <th>ma_detection_0.6</th>\n",
       "      <th>ma_detection_0.7</th>\n",
       "      <th>ma_detection_0.8</th>\n",
       "      <th>ma_detection_0.9</th>\n",
       "      <th>ma_detection_1.0</th>\n",
       "      <th>exudates_0.1</th>\n",
       "      <th>exudates_0.2</th>\n",
       "      <th>exudates_0.3</th>\n",
       "      <th>exudates_0.4</th>\n",
       "      <th>exudates_0.5</th>\n",
       "      <th>exudates_0.6</th>\n",
       "      <th>exudates_0.7</th>\n",
       "      <th>exudates_0.8</th>\n",
       "      <th>dist_macula_optic</th>\n",
       "      <th>diameter_optic</th>\n",
       "      <th>am_fm</th>\n",
       "    </tr>\n",
       "  </thead>\n",
       "  <tbody>\n",
       "    <tr>\n",
       "      <th>0</th>\n",
       "      <td>1.0</td>\n",
       "      <td>1.0</td>\n",
       "      <td>22.0</td>\n",
       "      <td>22.0</td>\n",
       "      <td>22.0</td>\n",
       "      <td>19.0</td>\n",
       "      <td>18.0</td>\n",
       "      <td>14.0</td>\n",
       "      <td>49.895756</td>\n",
       "      <td>17.775994</td>\n",
       "      <td>5.270920</td>\n",
       "      <td>0.771761</td>\n",
       "      <td>0.018632</td>\n",
       "      <td>0.006864</td>\n",
       "      <td>0.003923</td>\n",
       "      <td>0.003923</td>\n",
       "      <td>0.486903</td>\n",
       "      <td>0.100025</td>\n",
       "      <td>1.0</td>\n",
       "    </tr>\n",
       "    <tr>\n",
       "      <th>1</th>\n",
       "      <td>1.0</td>\n",
       "      <td>1.0</td>\n",
       "      <td>24.0</td>\n",
       "      <td>24.0</td>\n",
       "      <td>22.0</td>\n",
       "      <td>18.0</td>\n",
       "      <td>16.0</td>\n",
       "      <td>13.0</td>\n",
       "      <td>57.709936</td>\n",
       "      <td>23.799994</td>\n",
       "      <td>3.325423</td>\n",
       "      <td>0.234185</td>\n",
       "      <td>0.003903</td>\n",
       "      <td>0.003903</td>\n",
       "      <td>0.003903</td>\n",
       "      <td>0.003903</td>\n",
       "      <td>0.520908</td>\n",
       "      <td>0.144414</td>\n",
       "      <td>0.0</td>\n",
       "    </tr>\n",
       "    <tr>\n",
       "      <th>2</th>\n",
       "      <td>1.0</td>\n",
       "      <td>1.0</td>\n",
       "      <td>62.0</td>\n",
       "      <td>60.0</td>\n",
       "      <td>59.0</td>\n",
       "      <td>54.0</td>\n",
       "      <td>47.0</td>\n",
       "      <td>33.0</td>\n",
       "      <td>55.831441</td>\n",
       "      <td>27.993933</td>\n",
       "      <td>12.687485</td>\n",
       "      <td>4.852282</td>\n",
       "      <td>1.393889</td>\n",
       "      <td>0.373252</td>\n",
       "      <td>0.041817</td>\n",
       "      <td>0.007744</td>\n",
       "      <td>0.530904</td>\n",
       "      <td>0.128548</td>\n",
       "      <td>0.0</td>\n",
       "    </tr>\n",
       "    <tr>\n",
       "      <th>3</th>\n",
       "      <td>1.0</td>\n",
       "      <td>1.0</td>\n",
       "      <td>55.0</td>\n",
       "      <td>53.0</td>\n",
       "      <td>53.0</td>\n",
       "      <td>50.0</td>\n",
       "      <td>43.0</td>\n",
       "      <td>31.0</td>\n",
       "      <td>40.467228</td>\n",
       "      <td>18.445954</td>\n",
       "      <td>9.118901</td>\n",
       "      <td>3.079428</td>\n",
       "      <td>0.840261</td>\n",
       "      <td>0.272434</td>\n",
       "      <td>0.007653</td>\n",
       "      <td>0.001531</td>\n",
       "      <td>0.483284</td>\n",
       "      <td>0.114790</td>\n",
       "      <td>0.0</td>\n",
       "    </tr>\n",
       "    <tr>\n",
       "      <th>4</th>\n",
       "      <td>1.0</td>\n",
       "      <td>1.0</td>\n",
       "      <td>44.0</td>\n",
       "      <td>44.0</td>\n",
       "      <td>44.0</td>\n",
       "      <td>41.0</td>\n",
       "      <td>39.0</td>\n",
       "      <td>27.0</td>\n",
       "      <td>18.026254</td>\n",
       "      <td>8.570709</td>\n",
       "      <td>0.410381</td>\n",
       "      <td>0.000000</td>\n",
       "      <td>0.000000</td>\n",
       "      <td>0.000000</td>\n",
       "      <td>0.000000</td>\n",
       "      <td>0.000000</td>\n",
       "      <td>0.475935</td>\n",
       "      <td>0.123572</td>\n",
       "      <td>0.0</td>\n",
       "    </tr>\n",
       "  </tbody>\n",
       "</table>\n",
       "</div>"
      ],
      "text/plain": [
       "   quality  prescreen  ma_detection_0.5  ma_detection_0.6  ma_detection_0.7  \\\n",
       "0      1.0        1.0              22.0              22.0              22.0   \n",
       "1      1.0        1.0              24.0              24.0              22.0   \n",
       "2      1.0        1.0              62.0              60.0              59.0   \n",
       "3      1.0        1.0              55.0              53.0              53.0   \n",
       "4      1.0        1.0              44.0              44.0              44.0   \n",
       "\n",
       "   ma_detection_0.8  ma_detection_0.9  ma_detection_1.0  exudates_0.1  \\\n",
       "0              19.0              18.0              14.0     49.895756   \n",
       "1              18.0              16.0              13.0     57.709936   \n",
       "2              54.0              47.0              33.0     55.831441   \n",
       "3              50.0              43.0              31.0     40.467228   \n",
       "4              41.0              39.0              27.0     18.026254   \n",
       "\n",
       "   exudates_0.2  exudates_0.3  exudates_0.4  exudates_0.5  exudates_0.6  \\\n",
       "0     17.775994      5.270920      0.771761      0.018632      0.006864   \n",
       "1     23.799994      3.325423      0.234185      0.003903      0.003903   \n",
       "2     27.993933     12.687485      4.852282      1.393889      0.373252   \n",
       "3     18.445954      9.118901      3.079428      0.840261      0.272434   \n",
       "4      8.570709      0.410381      0.000000      0.000000      0.000000   \n",
       "\n",
       "   exudates_0.7  exudates_0.8  dist_macula_optic  diameter_optic  am_fm  \n",
       "0      0.003923      0.003923           0.486903        0.100025    1.0  \n",
       "1      0.003903      0.003903           0.520908        0.144414    0.0  \n",
       "2      0.041817      0.007744           0.530904        0.128548    0.0  \n",
       "3      0.007653      0.001531           0.483284        0.114790    0.0  \n",
       "4      0.000000      0.000000           0.475935        0.123572    0.0  "
      ]
     },
     "execution_count": 6,
     "metadata": {},
     "output_type": "execute_result"
    }
   ],
   "source": [
    "X.head()"
   ]
  },
  {
   "cell_type": "code",
   "execution_count": 7,
   "metadata": {},
   "outputs": [
    {
     "data": {
      "text/plain": [
       "0    0\n",
       "1    0\n",
       "2    1\n",
       "3    0\n",
       "4    1\n",
       "Name: Class, dtype: int32"
      ]
     },
     "execution_count": 7,
     "metadata": {},
     "output_type": "execute_result"
    }
   ],
   "source": [
    "Y.head()"
   ]
  },
  {
   "cell_type": "markdown",
   "metadata": {},
   "source": [
    "As mentioned above in Data Partitioning:\n",
    "We Split the data into 60% training set and 40% testing set.\n",
    "The KNN model is fitted with the training data (X_train and Y_train) with a default K of 5\n",
    "The fitted KNN model is tested on the test data set (x_test)"
   ]
  },
  {
   "cell_type": "code",
   "execution_count": 8,
   "metadata": {
    "scrolled": true
   },
   "outputs": [
    {
     "name": "stdout",
     "output_type": "stream",
     "text": [
      "Score:  0.6702819956616052\n",
      "              precision    recall  f1-score   support\n",
      "\n",
      "           0       0.63      0.72      0.67       216\n",
      "           1       0.72      0.62      0.67       245\n",
      "\n",
      "    accuracy                           0.67       461\n",
      "   macro avg       0.67      0.67      0.67       461\n",
      "weighted avg       0.68      0.67      0.67       461\n",
      "\n"
     ]
    }
   ],
   "source": [
    "## Default K value of 5 using Euclidean distance\n",
    "knn = KNeighborsClassifier()\n",
    "knn.fit(x_train, y_train)\n",
    "y_pred= knn.predict(x_test)\n",
    "print(\"Score: \",knn.score(x_test, y_test))\n",
    "print(classification_report(y_test, y_pred))"
   ]
  },
  {
   "cell_type": "markdown",
   "metadata": {},
   "source": [
    "Find K with the least error rate"
   ]
  },
  {
   "cell_type": "code",
   "execution_count": 9,
   "metadata": {
    "scrolled": true
   },
   "outputs": [],
   "source": [
    "rmse_val = []#to store rmse values for different k\n",
    "accuracy_val=[]\n",
    "for K in range(1,40):\n",
    "    model = KNeighborsClassifier(n_neighbors = K)\n",
    "    model.fit(x_train, y_train)  #fit the model\n",
    "    pred=model.predict(x_test) #make prediction on test set\n",
    "    accuracy_val.append(model.score(x_test, y_test))\n",
    "    error = math.sqrt(mean_squared_error(y_test,pred)) #calculate rmse\n",
    "    rmse_val.append(error) #store rmse values"
   ]
  },
  {
   "cell_type": "code",
   "execution_count": 10,
   "metadata": {},
   "outputs": [
    {
     "data": {
      "text/plain": [
       "Text(0, 0.5, 'Accuracy')"
      ]
     },
     "execution_count": 10,
     "metadata": {},
     "output_type": "execute_result"
    },
    {
     "data": {
      "image/png": "[encoded data removed]",
      "text/plain": [
       "<Figure size 720x432 with 1 Axes>"
      ]
     },
     "metadata": {
      "needs_background": "light"
     },
     "output_type": "display_data"
    }
   ],
   "source": [
    "plt.figure(figsize=(10,6))\n",
    "plt.plot(range(1,40),accuracy_val,color='blue', linestyle='dashed', marker='o',\n",
    "         markerfacecolor='red', markersize=10)\n",
    "plt.title('Accuracy vs. K Value')\n",
    "plt.xlabel('K')\n",
    "plt.ylabel('Accuracy')"
   ]
  },
  {
   "cell_type": "code",
   "execution_count": 11,
   "metadata": {
    "scrolled": true
   },
   "outputs": [
    {
     "name": "stdout",
     "output_type": "stream",
     "text": [
      "Score:  0.6724511930585684\n",
      "              precision    recall  f1-score   support\n",
      "\n",
      "           0       0.62      0.77      0.69       216\n",
      "           1       0.74      0.58      0.65       245\n",
      "\n",
      "    accuracy                           0.67       461\n",
      "   macro avg       0.68      0.68      0.67       461\n",
      "weighted avg       0.69      0.67      0.67       461\n",
      "\n"
     ]
    }
   ],
   "source": [
    "## Using K=17\n",
    "knn1 = KNeighborsClassifier(n_neighbors=17)\n",
    "knn1.fit(x_train, y_train)\n",
    "y_pred= knn1.predict(x_test)\n",
    "print(\"Score: \",knn1.score(x_test, y_test))\n",
    "print(classification_report(y_test, y_pred))"
   ]
  },
  {
   "cell_type": "code",
   "execution_count": 12,
   "metadata": {},
   "outputs": [
    {
     "name": "stdout",
     "output_type": "stream",
     "text": [
      "Score:  0.6724511930585684\n",
      "              precision    recall  f1-score   support\n",
      "\n",
      "           0       0.62      0.76      0.68       216\n",
      "           1       0.74      0.60      0.66       245\n",
      "\n",
      "    accuracy                           0.67       461\n",
      "   macro avg       0.68      0.68      0.67       461\n",
      "weighted avg       0.68      0.67      0.67       461\n",
      "\n"
     ]
    }
   ],
   "source": [
    "## Using K=23\n",
    "knn2 = KNeighborsClassifier(n_neighbors=23)\n",
    "knn2.fit(x_train, y_train)\n",
    "y_pred= knn2.predict(x_test)\n",
    "print(\"Score: \",knn2.score(x_test, y_test))\n",
    "print(classification_report(y_test, y_pred))"
   ]
  },
  {
   "cell_type": "markdown",
   "metadata": {},
   "source": [
    "Hypertuning model parameters using GridSearchCV to determine the K value"
   ]
  },
  {
   "cell_type": "code",
   "execution_count": 13,
   "metadata": {},
   "outputs": [
    {
     "name": "stdout",
     "output_type": "stream",
     "text": [
      "Best K-value: 10\n",
      "Best Score: 0.6434782608695652\n"
     ]
    }
   ],
   "source": [
    "#create new a knn model\n",
    "knn3 = KNeighborsClassifier()\n",
    "#create a dictionary of all values we want to test for n_neighbors\n",
    "param_grid = {\"n_neighbors\": np.arange(1, 25)}\n",
    "#use gridsearch to test all values for n_neighbors\n",
    "knn_gscv = GridSearchCV(knn3, param_grid, cv=5)\n",
    "#fit model to data\n",
    "knn_gscv.fit(x_train, y_train)\n",
    "print('Best K-value:', knn_gscv.best_params_['n_neighbors'])\n",
    "print('Best Score:', knn_gscv.best_score_)"
   ]
  },
  {
   "cell_type": "code",
   "execution_count": 14,
   "metadata": {},
   "outputs": [
    {
     "data": {
      "text/plain": [
       "Text(0.5, 1.0, 'CV Mean Accuracy vs K')"
      ]
     },
     "execution_count": 14,
     "metadata": {},
     "output_type": "execute_result"
    },
    {
     "data": {
      "image/png": "[encoded data removed]",
      "text/plain": [
       "<Figure size 432x288 with 1 Axes>"
      ]
     },
     "metadata": {
      "needs_background": "light"
     },
     "output_type": "display_data"
    }
   ],
   "source": [
    "df = pd.DataFrame(dict(mean_accuracy = knn_gscv.cv_results_[\"mean_test_score\"], n_neighbors = param_grid[\"n_neighbors\"]))\n",
    "df.plot(x = \"n_neighbors\", y = \"mean_accuracy\")\n",
    "plt.xlabel(\"K (n_neighbors)\")\n",
    "plt.ylabel(\"CV Mean Accuracy\")\n",
    "plt.title(\"CV Mean Accuracy vs K\")"
   ]
  },
  {
   "cell_type": "markdown",
   "metadata": {},
   "source": [
    "### Based on the results from RMSE and GridSearchCV, K-value of 15 with Cross Validation is used for the KNN model"
   ]
  },
  {
   "cell_type": "code",
   "execution_count": 15,
   "metadata": {},
   "outputs": [
    {
     "data": {
      "text/html": [
       "<div>\n",
       "<style scoped>\n",
       "    .dataframe tbody tr th:only-of-type {\n",
       "        vertical-align: middle;\n",
       "    }\n",
       "\n",
       "    .dataframe tbody tr th {\n",
       "        vertical-align: top;\n",
       "    }\n",
       "\n",
       "    .dataframe thead th {\n",
       "        text-align: right;\n",
       "    }\n",
       "</style>\n",
       "<table border=\"1\" class=\"dataframe\">\n",
       "  <thead>\n",
       "    <tr style=\"text-align: right;\">\n",
       "      <th></th>\n",
       "      <th>precision</th>\n",
       "      <th>recall</th>\n",
       "      <th>f1</th>\n",
       "      <th>accuracy</th>\n",
       "      <th>sample</th>\n",
       "    </tr>\n",
       "  </thead>\n",
       "  <tbody>\n",
       "    <tr>\n",
       "      <th>0</th>\n",
       "      <td>0.785455</td>\n",
       "      <td>0.590164</td>\n",
       "      <td>0.673947</td>\n",
       "      <td>0.697101</td>\n",
       "      <td>training</td>\n",
       "    </tr>\n",
       "    <tr>\n",
       "      <th>0</th>\n",
       "      <td>0.758427</td>\n",
       "      <td>0.551020</td>\n",
       "      <td>0.638298</td>\n",
       "      <td>0.668113</td>\n",
       "      <td>testing</td>\n",
       "    </tr>\n",
       "  </tbody>\n",
       "</table>\n",
       "</div>"
      ],
      "text/plain": [
       "   precision    recall        f1  accuracy    sample\n",
       "0   0.785455  0.590164  0.673947  0.697101  training\n",
       "0   0.758427  0.551020  0.638298  0.668113   testing"
      ]
     },
     "execution_count": 15,
     "metadata": {},
     "output_type": "execute_result"
    }
   ],
   "source": [
    "y_train_pred= knn_gscv.predict(x_train)\n",
    "y_test_pred= knn_gscv.predict(x_test)\n",
    "\n",
    "report_train = classification_report(y_train, y_train_pred, output_dict = True)\n",
    "report_test = classification_report(y_test, y_test_pred, output_dict = True)\n",
    "\n",
    "report_train_df = get_report_df(report_train, label = \"training\")\n",
    "report_test_df = get_report_df(report_test, label = \"testing\")\n",
    "\n",
    "report_df = pd.concat([report_train_df, report_test_df])\n",
    "report_df\n"
   ]
  },
  {
   "cell_type": "code",
   "execution_count": null,
   "metadata": {},
   "outputs": [],
   "source": []
  },
  {
   "cell_type": "code",
   "execution_count": null,
   "metadata": {},
   "outputs": [],
   "source": []
  },
  {
   "cell_type": "code",
   "execution_count": null,
   "metadata": {},
   "outputs": [],
   "source": []
  },
  {
   "cell_type": "code",
   "execution_count": null,
   "metadata": {},
   "outputs": [],
   "source": []
  },
  {
   "cell_type": "code",
   "execution_count": null,
   "metadata": {},
   "outputs": [],
   "source": []
  },
  {
   "cell_type": "code",
   "execution_count": null,
   "metadata": {},
   "outputs": [],
   "source": []
  }
 ],
 "metadata": {
  "kernelspec": {
   "display_name": "Python 3",
   "language": "python",
   "name": "python3"
  },
  "language_info": {
   "codemirror_mode": {
    "name": "ipython",
    "version": 3
   },
   "file_extension": ".py",
   "mimetype": "text/x-python",
   "name": "python",
   "nbconvert_exporter": "python",
   "pygments_lexer": "ipython3",
   "version": "3.7.4"
  }
 },
 "nbformat": 4,
 "nbformat_minor": 4
}
