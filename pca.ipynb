{
 "cells": [
  {
   "cell_type": "markdown",
   "metadata": {},
   "source": [
    "#  Diabetic Retinopathy Debrecen Data Set\n",
    "\n",
    "\n",
    "## Data source:\n",
    "The data used in this machine learning project can be found at UCI Machine Learning Repository.  \n",
    "<https://archive.ics.uci.edu/ml/datasets/Diabetic+Retinopathy+Debrecen+Data+Set>\n",
    "\n",
    "## Attribute Information:\n",
    "\n",
    "0. quality: The binary result of quality assessment. 0 = bad quality 1 = sufficient quality.\n",
    "1. prescreen: The binary result of pre-screening, where 1 indicates severe retinal abnormality and 0 its lack.\n",
    "2. ma_detection_0.5: The results of MA detection, which is the number of MAs found at the confidence level alpha = 0.5\n",
    "3. ma_detection_0.6: The results of MA detection, which is the number of MAs found at the confidence level alpha = 0.6\n",
    "4. ma_detection_0.7: The results of MA detection, which is the number of MAs found at the confidence level alpha = 0.7\n",
    "5. ma_detection_0.8: The results of MA detection, which is the number of MAs found at the confidence level alpha = 0.8\n",
    "6. ma_detection_0.9: The results of MA detection, which is the number of MAs found at the confidence level alpha = 0.9\n",
    "7. ma_detection_1.0: The results of MA detection, which is the number of MAs found at the confidence level alpha = 1.0\n",
    "8. exudates_0.1: The number of exudates found at the confidence level alpha = 0.1 with normalization*.\n",
    "9. exudates_0.2: The number of exudates found at the confidence level alpha = 0.2 with normalization*.\n",
    "10. exudates_0.3: The number of exudates found at the confidence level alpha = 0.3 with normalization*.\n",
    "11. exudates_0.4: The number of exudates found at the confidence level alpha = 0.4 with normalization*.\n",
    "12. exudates_0.5: The number of exudates found at the confidence level alpha = 0.5 with normalization*.\n",
    "13. exudates_0.6: The number of exudates found at the confidence level alpha = 0.6 with normalization*.\n",
    "14. exudates_0.7: The number of exudates found at the confidence level alpha = 0.7 with normalization*.\n",
    "15. exudates_0.8: The number of exudates found at the confidence level alpha = 0.8 with normalization*.\n",
    "\n",
    "* Exudates are represented by a set of points rather than the number of pixels constructing the lesions, hence these features are normalized by dividing the number of lesions with the diameter of the ROI to compensate different image sizes.\n",
    "\n",
    "16. dist_macula_optic: The euclidean distance of the center of the macula and the center of the optic disc to provide important information regarding the patient's condition. This feature is also normalized with the diameter of the ROI.\n",
    "17. diameter_optic: The diameter of the optic disc.\n",
    "18. am_fm: The binary result of the AM/FM-based classification.\n",
    "19. Class: Class label. 1 = contains signs of Diabetic Retinopathy (DR) (Accumulative label for the Messidor classes 1, 2, 3), 0 = no signs of DR.\n"
   ]
  },
  {
   "cell_type": "markdown",
   "metadata": {},
   "source": [
    "# Load the library and data\n",
    "\n",
    "- Load the required libraries.\n",
    "- Import the arff data and convert it into a Pandas dataframe.\n",
    "- Add the column names to the dataframe."
   ]
  },
  {
   "cell_type": "code",
   "execution_count": 30,
   "metadata": {},
   "outputs": [],
   "source": [
    "from scipy.io import arff\n",
    "import pandas as pd\n",
    "import numpy as np\n",
    "import plotly.express as px\n",
    "from plotly.offline import plot\n",
    "\n",
    "import sklearn\n",
    "from sklearn.model_selection import train_test_split\n",
    "from sklearn.linear_model import LogisticRegression\n",
    "from sklearn.decomposition import PCA\n",
    "from sklearn.ensemble import RandomForestClassifier\n",
    "from sklearn.neighbors import KNeighborsClassifier\n",
    "from sklearn.svm import SVC, LinearSVC\n",
    "from sklearn.metrics import classification_report\n",
    "import matplotlib.pyplot as plt\n",
    "\n",
    "data = arff.loadarff('messidor_features.arff')\n",
    "df = pd.DataFrame(data[0])\n",
    "df.columns = [\"quality\", \"prescreen\", \n",
    "              \"ma_detection_0.5\", \"ma_detection_0.6\", \"ma_detection_0.7\", \n",
    "              \"ma_detection_0.8\", \"ma_detection_0.9\", \"ma_detection_1.0\",\n",
    "              \"exudates_0.1\", \"exudates_0.2\", \"exudates_0.3\",\n",
    "              \"exudates_0.4\", \"exudates_0.5\", \"exudates_0.6\",\n",
    "              \"exudates_0.7\", \"exudates_0.8\",\n",
    "              \"dist_macula_optic\", \"diameter_optic\", \"am_fm\", \"Class\"\n",
    "             ]"
   ]
  },
  {
   "cell_type": "markdown",
   "metadata": {},
   "source": [
    "# Preview the data"
   ]
  },
  {
   "cell_type": "code",
   "execution_count": 31,
   "metadata": {},
   "outputs": [
    {
     "data": {
      "text/html": [
       "<div>\n",
       "<style scoped>\n",
       "    .dataframe tbody tr th:only-of-type {\n",
       "        vertical-align: middle;\n",
       "    }\n",
       "\n",
       "    .dataframe tbody tr th {\n",
       "        vertical-align: top;\n",
       "    }\n",
       "\n",
       "    .dataframe thead th {\n",
       "        text-align: right;\n",
       "    }\n",
       "</style>\n",
       "<table border=\"1\" class=\"dataframe\">\n",
       "  <thead>\n",
       "    <tr style=\"text-align: right;\">\n",
       "      <th></th>\n",
       "      <th>quality</th>\n",
       "      <th>prescreen</th>\n",
       "      <th>ma_detection_0.5</th>\n",
       "      <th>ma_detection_0.6</th>\n",
       "      <th>ma_detection_0.7</th>\n",
       "      <th>ma_detection_0.8</th>\n",
       "      <th>ma_detection_0.9</th>\n",
       "      <th>ma_detection_1.0</th>\n",
       "      <th>exudates_0.1</th>\n",
       "      <th>exudates_0.2</th>\n",
       "      <th>exudates_0.3</th>\n",
       "      <th>exudates_0.4</th>\n",
       "      <th>exudates_0.5</th>\n",
       "      <th>exudates_0.6</th>\n",
       "      <th>exudates_0.7</th>\n",
       "      <th>exudates_0.8</th>\n",
       "      <th>dist_macula_optic</th>\n",
       "      <th>diameter_optic</th>\n",
       "      <th>am_fm</th>\n",
       "      <th>Class</th>\n",
       "    </tr>\n",
       "  </thead>\n",
       "  <tbody>\n",
       "    <tr>\n",
       "      <th>0</th>\n",
       "      <td>1.0</td>\n",
       "      <td>1.0</td>\n",
       "      <td>22.0</td>\n",
       "      <td>22.0</td>\n",
       "      <td>22.0</td>\n",
       "      <td>19.0</td>\n",
       "      <td>18.0</td>\n",
       "      <td>14.0</td>\n",
       "      <td>49.895756</td>\n",
       "      <td>17.775994</td>\n",
       "      <td>5.270920</td>\n",
       "      <td>0.771761</td>\n",
       "      <td>0.018632</td>\n",
       "      <td>0.006864</td>\n",
       "      <td>0.003923</td>\n",
       "      <td>0.003923</td>\n",
       "      <td>0.486903</td>\n",
       "      <td>0.100025</td>\n",
       "      <td>1.0</td>\n",
       "      <td>b'0'</td>\n",
       "    </tr>\n",
       "    <tr>\n",
       "      <th>1</th>\n",
       "      <td>1.0</td>\n",
       "      <td>1.0</td>\n",
       "      <td>24.0</td>\n",
       "      <td>24.0</td>\n",
       "      <td>22.0</td>\n",
       "      <td>18.0</td>\n",
       "      <td>16.0</td>\n",
       "      <td>13.0</td>\n",
       "      <td>57.709936</td>\n",
       "      <td>23.799994</td>\n",
       "      <td>3.325423</td>\n",
       "      <td>0.234185</td>\n",
       "      <td>0.003903</td>\n",
       "      <td>0.003903</td>\n",
       "      <td>0.003903</td>\n",
       "      <td>0.003903</td>\n",
       "      <td>0.520908</td>\n",
       "      <td>0.144414</td>\n",
       "      <td>0.0</td>\n",
       "      <td>b'0'</td>\n",
       "    </tr>\n",
       "    <tr>\n",
       "      <th>2</th>\n",
       "      <td>1.0</td>\n",
       "      <td>1.0</td>\n",
       "      <td>62.0</td>\n",
       "      <td>60.0</td>\n",
       "      <td>59.0</td>\n",
       "      <td>54.0</td>\n",
       "      <td>47.0</td>\n",
       "      <td>33.0</td>\n",
       "      <td>55.831441</td>\n",
       "      <td>27.993933</td>\n",
       "      <td>12.687485</td>\n",
       "      <td>4.852282</td>\n",
       "      <td>1.393889</td>\n",
       "      <td>0.373252</td>\n",
       "      <td>0.041817</td>\n",
       "      <td>0.007744</td>\n",
       "      <td>0.530904</td>\n",
       "      <td>0.128548</td>\n",
       "      <td>0.0</td>\n",
       "      <td>b'1'</td>\n",
       "    </tr>\n",
       "    <tr>\n",
       "      <th>3</th>\n",
       "      <td>1.0</td>\n",
       "      <td>1.0</td>\n",
       "      <td>55.0</td>\n",
       "      <td>53.0</td>\n",
       "      <td>53.0</td>\n",
       "      <td>50.0</td>\n",
       "      <td>43.0</td>\n",
       "      <td>31.0</td>\n",
       "      <td>40.467228</td>\n",
       "      <td>18.445954</td>\n",
       "      <td>9.118901</td>\n",
       "      <td>3.079428</td>\n",
       "      <td>0.840261</td>\n",
       "      <td>0.272434</td>\n",
       "      <td>0.007653</td>\n",
       "      <td>0.001531</td>\n",
       "      <td>0.483284</td>\n",
       "      <td>0.114790</td>\n",
       "      <td>0.0</td>\n",
       "      <td>b'0'</td>\n",
       "    </tr>\n",
       "    <tr>\n",
       "      <th>4</th>\n",
       "      <td>1.0</td>\n",
       "      <td>1.0</td>\n",
       "      <td>44.0</td>\n",
       "      <td>44.0</td>\n",
       "      <td>44.0</td>\n",
       "      <td>41.0</td>\n",
       "      <td>39.0</td>\n",
       "      <td>27.0</td>\n",
       "      <td>18.026254</td>\n",
       "      <td>8.570709</td>\n",
       "      <td>0.410381</td>\n",
       "      <td>0.000000</td>\n",
       "      <td>0.000000</td>\n",
       "      <td>0.000000</td>\n",
       "      <td>0.000000</td>\n",
       "      <td>0.000000</td>\n",
       "      <td>0.475935</td>\n",
       "      <td>0.123572</td>\n",
       "      <td>0.0</td>\n",
       "      <td>b'1'</td>\n",
       "    </tr>\n",
       "  </tbody>\n",
       "</table>\n",
       "</div>"
      ],
      "text/plain": [
       "   quality  prescreen  ma_detection_0.5  ma_detection_0.6  ma_detection_0.7  \\\n",
       "0      1.0        1.0              22.0              22.0              22.0   \n",
       "1      1.0        1.0              24.0              24.0              22.0   \n",
       "2      1.0        1.0              62.0              60.0              59.0   \n",
       "3      1.0        1.0              55.0              53.0              53.0   \n",
       "4      1.0        1.0              44.0              44.0              44.0   \n",
       "\n",
       "   ma_detection_0.8  ma_detection_0.9  ma_detection_1.0  exudates_0.1  \\\n",
       "0              19.0              18.0              14.0     49.895756   \n",
       "1              18.0              16.0              13.0     57.709936   \n",
       "2              54.0              47.0              33.0     55.831441   \n",
       "3              50.0              43.0              31.0     40.467228   \n",
       "4              41.0              39.0              27.0     18.026254   \n",
       "\n",
       "   exudates_0.2  exudates_0.3  exudates_0.4  exudates_0.5  exudates_0.6  \\\n",
       "0     17.775994      5.270920      0.771761      0.018632      0.006864   \n",
       "1     23.799994      3.325423      0.234185      0.003903      0.003903   \n",
       "2     27.993933     12.687485      4.852282      1.393889      0.373252   \n",
       "3     18.445954      9.118901      3.079428      0.840261      0.272434   \n",
       "4      8.570709      0.410381      0.000000      0.000000      0.000000   \n",
       "\n",
       "   exudates_0.7  exudates_0.8  dist_macula_optic  diameter_optic  am_fm Class  \n",
       "0      0.003923      0.003923           0.486903        0.100025    1.0  b'0'  \n",
       "1      0.003903      0.003903           0.520908        0.144414    0.0  b'0'  \n",
       "2      0.041817      0.007744           0.530904        0.128548    0.0  b'1'  \n",
       "3      0.007653      0.001531           0.483284        0.114790    0.0  b'0'  \n",
       "4      0.000000      0.000000           0.475935        0.123572    0.0  b'1'  "
      ]
     },
     "execution_count": 31,
     "metadata": {},
     "output_type": "execute_result"
    }
   ],
   "source": [
    "df.head()"
   ]
  },
  {
   "cell_type": "markdown",
   "metadata": {},
   "source": [
    "# Check for any missing value\n",
    "There is no missing value as shown below."
   ]
  },
  {
   "cell_type": "code",
   "execution_count": 32,
   "metadata": {},
   "outputs": [
    {
     "data": {
      "text/plain": [
       "quality              False\n",
       "prescreen            False\n",
       "ma_detection_0.5     False\n",
       "ma_detection_0.6     False\n",
       "ma_detection_0.7     False\n",
       "ma_detection_0.8     False\n",
       "ma_detection_0.9     False\n",
       "ma_detection_1.0     False\n",
       "exudates_0.1         False\n",
       "exudates_0.2         False\n",
       "exudates_0.3         False\n",
       "exudates_0.4         False\n",
       "exudates_0.5         False\n",
       "exudates_0.6         False\n",
       "exudates_0.7         False\n",
       "exudates_0.8         False\n",
       "dist_macula_optic    False\n",
       "diameter_optic       False\n",
       "am_fm                False\n",
       "Class                False\n",
       "dtype: bool"
      ]
     },
     "execution_count": 32,
     "metadata": {},
     "output_type": "execute_result"
    }
   ],
   "source": [
    "df.isna().any()"
   ]
  },
  {
   "cell_type": "markdown",
   "metadata": {},
   "source": [
    "# Clean the data\n",
    "- Clean the 'Class' variable to integer value"
   ]
  },
  {
   "cell_type": "code",
   "execution_count": 33,
   "metadata": {},
   "outputs": [
    {
     "data": {
      "text/plain": [
       "0    0\n",
       "1    0\n",
       "2    1\n",
       "3    0\n",
       "4    1\n",
       "Name: Class, dtype: int32"
      ]
     },
     "execution_count": 33,
     "metadata": {},
     "output_type": "execute_result"
    }
   ],
   "source": [
    "df[\"Class\"] = [j.replace(\"b\", \"\").replace(\"'\", \"\") for j in df[\"Class\"].astype(str)]\n",
    "df[\"Class\"] = df[\"Class\"].astype(int)\n",
    "df[\"Class\"].head()"
   ]
  },
  {
   "cell_type": "markdown",
   "metadata": {},
   "source": [
    "# Data Partitioning\n",
    "- Subset the features as X, and target class as Y\n",
    "- Split the data into 60% training set and 40% testing set. Stratify split is performed to maintain the class proportion among training and testing set.\n",
    "- Note that the proportion of target class = 1 is 53.1%, which is approximately 50%. Hence, the target class is balanced, active measures such as oversampling is not required to balance the target class."
   ]
  },
  {
   "cell_type": "code",
   "execution_count": 34,
   "metadata": {},
   "outputs": [
    {
     "name": "stdout",
     "output_type": "stream",
     "text": [
      "(690, 19) (461, 19) (690,) (461,)\n",
      "0.5304347826086957 0.5314533622559653\n"
     ]
    }
   ],
   "source": [
    "Y = df.iloc[:, -1]\n",
    "X = df.iloc[:, :-1]\n",
    "x_train, x_test, y_train, y_test = train_test_split(X, Y, test_size = 0.4, stratify = Y, random_state = 123)\n",
    "print(x_train.shape, x_test.shape, y_train.shape, y_test.shape)\n",
    "print(y_train.mean(), y_test.mean()) # proportion of class = 1 is similar for training and test set (53%)"
   ]
  },
  {
   "cell_type": "markdown",
   "metadata": {},
   "source": [
    "# Modelling \n",
    "4 models were trained and tested on the data:\n",
    "1. Logistic Regression\n",
    "2. Random Forest classifier\n",
    "3. K-Nearest Neighbor classifier\n",
    "4. Linear Support Vector Machine (SVM)"
   ]
  },
  {
   "cell_type": "markdown",
   "metadata": {},
   "source": [
    "### PCA & Linear Support Vector Machine (SVM)\n",
    "First, we perform PCA on the training data. We examined elbow curve of the variance explained ratio.  \n",
    "We determined that the optimal number of principal components to use is 2 based on the elbow curve shown below."
   ]
  },
  {
   "cell_type": "code",
   "execution_count": 40,
   "metadata": {},
   "outputs": [
    {
     "data": {
      "text/plain": [
       "0.9540654174434526"
      ]
     },
     "execution_count": 40,
     "metadata": {},
     "output_type": "execute_result"
    },
    {
     "data": {
      "image/png": "[encoded data removed]",
      "text/plain": [
       "<Figure size 432x288 with 1 Axes>"
      ]
     },
     "metadata": {
      "needs_background": "light"
     },
     "output_type": "display_data"
    }
   ],
   "source": [
    "pca = PCA(n_components=10)\n",
    "X_r = pca.fit(x_train).transform(x_train)\n",
    "explained = pca.explained_variance_ratio_.cumsum()\n",
    "xaxis = [j+1 for j in range(len(explained))]\n",
    "\n",
    "plt.plot(xaxis, explained)\n",
    "explained[1]"
   ]
  },
  {
   "cell_type": "markdown",
   "metadata": {},
   "source": [
    "### Scatter plot of the two principal components\n",
    "- Even with the two principal components, the target classes are not linearly separable as shown in the scatter plot.\n",
    "- Therefore, it is suggested to use a non-linear kernel when performing SVM."
   ]
  },
  {
   "cell_type": "code",
   "execution_count": 51,
   "metadata": {},
   "outputs": [
    {
     "data": {
      "text/plain": [
       "'temp-plot.html'"
      ]
     },
     "execution_count": 51,
     "metadata": {},
     "output_type": "execute_result"
    }
   ],
   "source": [
    "pca = PCA(n_components=2)\n",
    "X_pca_train = pca.fit_transform(x_train)\n",
    "X_pca_test = pca.fit_transform(x_test)\n",
    "\n",
    "X_pca_train_plot = pd.DataFrame(X_pca_train)\n",
    "X_pca_train_plot[\"y\"] = y_train.values\n",
    "X_pca_train_plot[\"y\"] = X_pca_train_plot[\"y\"].astype(str)\n",
    "X_pca_train_plot.columns = [\"pc1\", \"pc2\", \"y\"]\n",
    "fig = px.scatter(X_pca_train_plot, x=\"pc1\", y = \"pc2\", color = \"y\", opacity =0.6) #       color='species')\n",
    "plot(fig)\n",
    "\n"
   ]
  },
  {
   "cell_type": "markdown",
   "metadata": {},
   "source": [
    "# SVM with Radial Basis Function"
   ]
  },
  {
   "cell_type": "code",
   "execution_count": 73,
   "metadata": {},
   "outputs": [
    {
     "data": {
      "text/plain": [
       "{'0': {'precision': 0.6027397260273972,\n",
       "  'recall': 0.8148148148148148,\n",
       "  'f1-score': 0.6929133858267718,\n",
       "  'support': 216},\n",
       " '1': {'precision': 0.7633136094674556,\n",
       "  'recall': 0.5265306122448979,\n",
       "  'f1-score': 0.6231884057971014,\n",
       "  'support': 245},\n",
       " 'accuracy': 0.6616052060737527,\n",
       " 'macro avg': {'precision': 0.6830266677474264,\n",
       "  'recall': 0.6706727135298564,\n",
       "  'f1-score': 0.6580508958119367,\n",
       "  'support': 461},\n",
       " 'weighted avg': {'precision': 0.6880772562721137,\n",
       "  'recall': 0.6616052060737527,\n",
       "  'f1-score': 0.6558578107567733,\n",
       "  'support': 461}}"
      ]
     },
     "execution_count": 73,
     "metadata": {},
     "output_type": "execute_result"
    }
   ],
   "source": [
    "svm = SVC(kernel = \"rbf\", C = 1, max_iter = 1e4, random_state = 123, gamma = \"scale\")\n",
    "svm.fit(X_pca_train, y_train)\n",
    "y_pred= svm.predict(X_pca_test)\n",
    "report = classification_report(y_test, y_pred, output_dict = True)\n",
    "report"
   ]
  },
  {
   "cell_type": "code",
   "execution_count": 80,
   "metadata": {},
   "outputs": [
    {
     "data": {
      "text/html": [
       "<div>\n",
       "<style scoped>\n",
       "    .dataframe tbody tr th:only-of-type {\n",
       "        vertical-align: middle;\n",
       "    }\n",
       "\n",
       "    .dataframe tbody tr th {\n",
       "        vertical-align: top;\n",
       "    }\n",
       "\n",
       "    .dataframe thead th {\n",
       "        text-align: right;\n",
       "    }\n",
       "</style>\n",
       "<table border=\"1\" class=\"dataframe\">\n",
       "  <thead>\n",
       "    <tr style=\"text-align: right;\">\n",
       "      <th></th>\n",
       "      <th>precision</th>\n",
       "      <th>recall</th>\n",
       "      <th>f1</th>\n",
       "      <th>accuracy</th>\n",
       "    </tr>\n",
       "  </thead>\n",
       "  <tbody>\n",
       "    <tr>\n",
       "      <th>0</th>\n",
       "      <td>0.763314</td>\n",
       "      <td>0.526531</td>\n",
       "      <td>0.623188</td>\n",
       "      <td>0.661605</td>\n",
       "    </tr>\n",
       "  </tbody>\n",
       "</table>\n",
       "</div>"
      ],
      "text/plain": [
       "   precision    recall        f1  accuracy\n",
       "0   0.763314  0.526531  0.623188  0.661605"
      ]
     },
     "execution_count": 80,
     "metadata": {},
     "output_type": "execute_result"
    }
   ],
   "source": [
    "precision = report[\"1\"][\"precision\"]\n",
    "recall = report[\"1\"][\"recall\"]\n",
    "f1 = report[\"1\"][\"f1-score\"]\n",
    "accuracy = report[\"accuracy\"]\n",
    "\n",
    "report_df = pd.DataFrame([precision, recall, f1, accuracy]).T\n",
    "report_df.columns = ['precision', 'recall', 'f1', 'accuracy']\n",
    "report_df"
   ]
  },
  {
   "cell_type": "code",
   "execution_count": null,
   "metadata": {},
   "outputs": [],
   "source": []
  }
 ],
 "metadata": {
  "kernelspec": {
   "display_name": "Python 3",
   "language": "python",
   "name": "python3"
  },
  "language_info": {
   "codemirror_mode": {
    "name": "ipython",
    "version": 3
   },
   "file_extension": ".py",
   "mimetype": "text/x-python",
   "name": "python",
   "nbconvert_exporter": "python",
   "pygments_lexer": "ipython3",
   "version": "3.7.4"
  }
 },
 "nbformat": 4,
 "nbformat_minor": 4
}
